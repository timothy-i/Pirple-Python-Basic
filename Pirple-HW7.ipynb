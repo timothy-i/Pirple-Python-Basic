{
 "cells": [
  {
   "cell_type": "code",
   "execution_count": 14,
   "metadata": {},
   "outputs": [
    {
     "name": "stdout",
     "output_type": "stream",
     "text": [
      "songTitle : Amen\n",
      "artist : Rich Brian\n",
      "genre : Rap\n",
      "releasedDate : 2018-02-02\n",
      "label : 88rising-EMPIRE\n",
      "durationInSeconds : 117\n",
      "BPM : 140\n"
     ]
    }
   ],
   "source": [
    "songDict={'songTitle':'Amen', 'artist':'Rich Brian', 'genre':'Rap', 'releasedDate':'2018-02-02', 'label':'88rising-EMPIRE', 'durationInSeconds':117, 'BPM':140}\n",
    "\n",
    "for key,value in songDict.items():\n",
    "    print (key, ':', value)\n",
    "\n"
   ]
  },
  {
   "cell_type": "code",
   "execution_count": 24,
   "metadata": {},
   "outputs": [],
   "source": [
    "def quiz(key,value):\n",
    "    if key in songDict and value == songDict[key]:\n",
    "        return True\n",
    "    else:\n",
    "        return False"
   ]
  },
  {
   "cell_type": "code",
   "execution_count": 28,
   "metadata": {},
   "outputs": [
    {
     "data": {
      "text/plain": [
       "True"
      ]
     },
     "execution_count": 28,
     "metadata": {},
     "output_type": "execute_result"
    }
   ],
   "source": [
    "quiz('songTitle', 'Amen')"
   ]
  },
  {
   "cell_type": "code",
   "execution_count": null,
   "metadata": {},
   "outputs": [],
   "source": []
  }
 ],
 "metadata": {
  "kernelspec": {
   "display_name": "Python 3",
   "language": "python",
   "name": "python3"
  },
  "language_info": {
   "codemirror_mode": {
    "name": "ipython",
    "version": 3
   },
   "file_extension": ".py",
   "mimetype": "text/x-python",
   "name": "python",
   "nbconvert_exporter": "python",
   "pygments_lexer": "ipython3",
   "version": "3.8.3"
  }
 },
 "nbformat": 4,
 "nbformat_minor": 4
}
