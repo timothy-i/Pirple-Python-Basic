{
 "cells": [
  {
   "cell_type": "code",
   "execution_count": 155,
   "metadata": {},
   "outputs": [],
   "source": [
    "class Vehicle:\n",
    "    def __init__(self, make, model, year, weight,trips):\n",
    "        self.make = make\n",
    "        self.model = model\n",
    "        self.year = int(year)\n",
    "        self.weight = int(weight) #in KG\n",
    "        self.tripsSinceMaintenance = trips\n",
    "    \n",
    "    def needsMaintenance(self):\n",
    "        if self.tripsSinceMaintenance < 100:\n",
    "            print(self.model + ' dont needs maintenance')\n",
    "            return False\n",
    "        else:\n",
    "            print(self.model + ' needs maintenance')\n",
    "            return True\n",
    "        \n",
    "class Car(Vehicle):\n",
    "    def __init__(self, make, model, year, weight, trips, driving=False):\n",
    "        Vehicle.__init__(self, make, model, year, weight, trips)\n",
    "        self.drive = driving\n",
    "    \n",
    "    def driveNow(self):\n",
    "        self.drive = True\n",
    "        if self.drive == True:\n",
    "            print(self.model + ' starting engine')\n",
    "        \n",
    "    def stopNow (self):\n",
    "        if self.drive == True:\n",
    "            self.drive = False\n",
    "            if self.tripsSinceMaintenance < 100:\n",
    "                    self.tripsSinceMaintenance += 1\n",
    "            print(self.model + ' engine stop')\n",
    "            \n",
    "    def repair(self):\n",
    "        if self.tripsSinceMaintenance >= 100:\n",
    "            self.tripsSinceMaintenance = 0\n",
    "        print(self.model + ' has been repaired')\n",
    "        \n",
    "class Planes(Vehicle):\n",
    "    def __init__(self, make, model, year, weight, trips, flying=False):\n",
    "        Vehicle.__init__(self, make, model, year, weight, trips)\n",
    "        self.fly = flying\n",
    "        \n",
    "    def flyNow(self):\n",
    "        if self.needsMaintenance() == True:\n",
    "            print(self.model + ' needs repair to fly')\n",
    "        else:\n",
    "            self.fly = True\n",
    "            if self.fly == True:\n",
    "                print(self.model + ' starting engine')\n",
    "        \n",
    "    def landNow (self):\n",
    "        if self.fly == True:\n",
    "            self.fly = False\n",
    "            if self.tripsSinceMaintenance < 100:\n",
    "                    self.tripsSinceMaintenance += 1\n",
    "            print(self.model + ' engine stop')\n",
    "            \n",
    "    def repair(self):\n",
    "        if self.tripsSinceMaintenance >= 100:\n",
    "            self.tripsSinceMaintenance = 0\n",
    "        print(self.model + ' has been repaired')"
   ]
  },
  {
   "cell_type": "code",
   "execution_count": 123,
   "metadata": {},
   "outputs": [],
   "source": [
    "car1 = Car(\"Tesla\",\"Model S\",2020,2316,0)\n",
    "car2 = Car(\"Honda\",\"Civic Type R\",2019,1380,0)\n",
    "car3 = Car(\"BMW\",\"i8\",2018,1920,0)"
   ]
  },
  {
   "cell_type": "code",
   "execution_count": 125,
   "metadata": {
    "scrolled": true
   },
   "outputs": [
    {
     "name": "stdout",
     "output_type": "stream",
     "text": [
      "Tesla\n",
      "Model S\n",
      "2019\n",
      "2019\n",
      "2316\n",
      "Model S dont needs maintenance\n",
      "0\n"
     ]
    }
   ],
   "source": [
    "print(car1.make)\n",
    "print(car1.model)\n",
    "print(car1.year)\n",
    "car1.year = 2019\n",
    "print(car1.year)\n",
    "print(car1.weight)\n",
    "car1.needsMaintenance()\n",
    "print(car1.tripsSinceMaintenance)"
   ]
  },
  {
   "cell_type": "code",
   "execution_count": 126,
   "metadata": {
    "scrolled": true
   },
   "outputs": [
    {
     "name": "stdout",
     "output_type": "stream",
     "text": [
      "Model S starting engine\n",
      "Model S engine stop\n",
      "Model S starting engine\n",
      "Model S engine stop\n",
      "Model S starting engine\n",
      "Model S engine stop\n",
      "Model S starting engine\n",
      "Model S engine stop\n",
      "Model S starting engine\n",
      "Model S engine stop\n",
      "Model S starting engine\n",
      "Model S engine stop\n",
      "Model S starting engine\n",
      "Model S engine stop\n",
      "Model S starting engine\n",
      "Model S engine stop\n",
      "Model S starting engine\n",
      "Model S engine stop\n",
      "Model S starting engine\n",
      "Model S engine stop\n",
      "Model S starting engine\n",
      "Model S engine stop\n",
      "Model S starting engine\n",
      "Model S engine stop\n",
      "Model S starting engine\n",
      "Model S engine stop\n",
      "Model S starting engine\n",
      "Model S engine stop\n",
      "Model S starting engine\n",
      "Model S engine stop\n"
     ]
    }
   ],
   "source": [
    "for i in range(15):\n",
    "    car1.driveNow()\n",
    "    car1.stopNow()"
   ]
  },
  {
   "cell_type": "code",
   "execution_count": 127,
   "metadata": {},
   "outputs": [
    {
     "name": "stdout",
     "output_type": "stream",
     "text": [
      "15\n",
      "Model S dont needs maintenance\n"
     ]
    },
    {
     "data": {
      "text/plain": [
       "False"
      ]
     },
     "execution_count": 127,
     "metadata": {},
     "output_type": "execute_result"
    }
   ],
   "source": [
    "print(car1.tripsSinceMaintenance)\n",
    "car1.needsMaintenance()"
   ]
  },
  {
   "cell_type": "code",
   "execution_count": 128,
   "metadata": {},
   "outputs": [
    {
     "name": "stdout",
     "output_type": "stream",
     "text": [
      "Honda\n",
      "Civic Type R\n",
      "2019\n",
      "1380\n",
      "Civic Type R dont needs maintenance\n",
      "0\n"
     ]
    }
   ],
   "source": [
    "print(car2.make)\n",
    "print(car2.model)\n",
    "print(car2.year)\n",
    "print(car2.weight)\n",
    "car2.needsMaintenance()\n",
    "print(car2.tripsSinceMaintenance)"
   ]
  },
  {
   "cell_type": "code",
   "execution_count": 129,
   "metadata": {
    "scrolled": true
   },
   "outputs": [
    {
     "name": "stdout",
     "output_type": "stream",
     "text": [
      "Civic Type R starting engine\n",
      "Civic Type R engine stop\n",
      "Civic Type R starting engine\n",
      "Civic Type R engine stop\n",
      "Civic Type R starting engine\n",
      "Civic Type R engine stop\n",
      "Civic Type R starting engine\n",
      "Civic Type R engine stop\n",
      "Civic Type R starting engine\n",
      "Civic Type R engine stop\n",
      "Civic Type R starting engine\n",
      "Civic Type R engine stop\n",
      "Civic Type R starting engine\n",
      "Civic Type R engine stop\n",
      "Civic Type R starting engine\n",
      "Civic Type R engine stop\n",
      "Civic Type R starting engine\n",
      "Civic Type R engine stop\n",
      "Civic Type R starting engine\n",
      "Civic Type R engine stop\n",
      "Civic Type R starting engine\n",
      "Civic Type R engine stop\n",
      "Civic Type R starting engine\n",
      "Civic Type R engine stop\n",
      "Civic Type R starting engine\n",
      "Civic Type R engine stop\n",
      "Civic Type R starting engine\n",
      "Civic Type R engine stop\n",
      "Civic Type R starting engine\n",
      "Civic Type R engine stop\n",
      "Civic Type R starting engine\n",
      "Civic Type R engine stop\n",
      "Civic Type R starting engine\n",
      "Civic Type R engine stop\n",
      "Civic Type R starting engine\n",
      "Civic Type R engine stop\n",
      "Civic Type R starting engine\n",
      "Civic Type R engine stop\n",
      "Civic Type R starting engine\n",
      "Civic Type R engine stop\n",
      "Civic Type R starting engine\n",
      "Civic Type R engine stop\n",
      "Civic Type R starting engine\n",
      "Civic Type R engine stop\n",
      "Civic Type R starting engine\n",
      "Civic Type R engine stop\n",
      "Civic Type R starting engine\n",
      "Civic Type R engine stop\n",
      "Civic Type R starting engine\n",
      "Civic Type R engine stop\n",
      "Civic Type R starting engine\n",
      "Civic Type R engine stop\n",
      "Civic Type R starting engine\n",
      "Civic Type R engine stop\n",
      "Civic Type R starting engine\n",
      "Civic Type R engine stop\n",
      "Civic Type R starting engine\n",
      "Civic Type R engine stop\n",
      "Civic Type R starting engine\n",
      "Civic Type R engine stop\n",
      "Civic Type R starting engine\n",
      "Civic Type R engine stop\n",
      "Civic Type R starting engine\n",
      "Civic Type R engine stop\n",
      "Civic Type R starting engine\n",
      "Civic Type R engine stop\n",
      "Civic Type R starting engine\n",
      "Civic Type R engine stop\n",
      "Civic Type R starting engine\n",
      "Civic Type R engine stop\n",
      "Civic Type R starting engine\n",
      "Civic Type R engine stop\n",
      "Civic Type R starting engine\n",
      "Civic Type R engine stop\n",
      "Civic Type R starting engine\n",
      "Civic Type R engine stop\n",
      "Civic Type R starting engine\n",
      "Civic Type R engine stop\n",
      "Civic Type R starting engine\n",
      "Civic Type R engine stop\n",
      "Civic Type R starting engine\n",
      "Civic Type R engine stop\n",
      "Civic Type R starting engine\n",
      "Civic Type R engine stop\n",
      "Civic Type R starting engine\n",
      "Civic Type R engine stop\n",
      "Civic Type R starting engine\n",
      "Civic Type R engine stop\n",
      "Civic Type R starting engine\n",
      "Civic Type R engine stop\n",
      "Civic Type R starting engine\n",
      "Civic Type R engine stop\n",
      "Civic Type R starting engine\n",
      "Civic Type R engine stop\n",
      "Civic Type R starting engine\n",
      "Civic Type R engine stop\n",
      "Civic Type R starting engine\n",
      "Civic Type R engine stop\n",
      "Civic Type R starting engine\n",
      "Civic Type R engine stop\n",
      "Civic Type R starting engine\n",
      "Civic Type R engine stop\n",
      "Civic Type R starting engine\n",
      "Civic Type R engine stop\n",
      "Civic Type R starting engine\n",
      "Civic Type R engine stop\n",
      "Civic Type R starting engine\n",
      "Civic Type R engine stop\n",
      "Civic Type R starting engine\n",
      "Civic Type R engine stop\n",
      "Civic Type R starting engine\n",
      "Civic Type R engine stop\n",
      "Civic Type R starting engine\n",
      "Civic Type R engine stop\n",
      "Civic Type R starting engine\n",
      "Civic Type R engine stop\n",
      "Civic Type R starting engine\n",
      "Civic Type R engine stop\n",
      "Civic Type R starting engine\n",
      "Civic Type R engine stop\n"
     ]
    }
   ],
   "source": [
    "for i in range(60):\n",
    "    car2.driveNow()\n",
    "    car2.stopNow()"
   ]
  },
  {
   "cell_type": "code",
   "execution_count": 130,
   "metadata": {},
   "outputs": [
    {
     "name": "stdout",
     "output_type": "stream",
     "text": [
      "60\n",
      "Civic Type R dont needs maintenance\n"
     ]
    },
    {
     "data": {
      "text/plain": [
       "False"
      ]
     },
     "execution_count": 130,
     "metadata": {},
     "output_type": "execute_result"
    }
   ],
   "source": [
    "print(car2.tripsSinceMaintenance)\n",
    "car2.needsMaintenance()"
   ]
  },
  {
   "cell_type": "code",
   "execution_count": 131,
   "metadata": {},
   "outputs": [
    {
     "name": "stdout",
     "output_type": "stream",
     "text": [
      "BMW\n",
      "i8\n",
      "2018\n",
      "1920\n",
      "i8 dont needs maintenance\n",
      "0\n"
     ]
    }
   ],
   "source": [
    "print(car3.make)\n",
    "print(car3.model)\n",
    "print(car3.year)\n",
    "print(car3.weight)\n",
    "car3.needsMaintenance()\n",
    "print(car3.tripsSinceMaintenance)"
   ]
  },
  {
   "cell_type": "code",
   "execution_count": 132,
   "metadata": {},
   "outputs": [
    {
     "name": "stdout",
     "output_type": "stream",
     "text": [
      "i8 starting engine\n",
      "i8 engine stop\n",
      "i8 starting engine\n",
      "i8 engine stop\n",
      "i8 starting engine\n",
      "i8 engine stop\n",
      "i8 starting engine\n",
      "i8 engine stop\n",
      "i8 starting engine\n",
      "i8 engine stop\n",
      "i8 starting engine\n",
      "i8 engine stop\n",
      "i8 starting engine\n",
      "i8 engine stop\n",
      "i8 starting engine\n",
      "i8 engine stop\n",
      "i8 starting engine\n",
      "i8 engine stop\n",
      "i8 starting engine\n",
      "i8 engine stop\n",
      "i8 starting engine\n",
      "i8 engine stop\n",
      "i8 starting engine\n",
      "i8 engine stop\n",
      "i8 starting engine\n",
      "i8 engine stop\n",
      "i8 starting engine\n",
      "i8 engine stop\n",
      "i8 starting engine\n",
      "i8 engine stop\n",
      "i8 starting engine\n",
      "i8 engine stop\n",
      "i8 starting engine\n",
      "i8 engine stop\n",
      "i8 starting engine\n",
      "i8 engine stop\n",
      "i8 starting engine\n",
      "i8 engine stop\n",
      "i8 starting engine\n",
      "i8 engine stop\n",
      "i8 starting engine\n",
      "i8 engine stop\n",
      "i8 starting engine\n",
      "i8 engine stop\n",
      "i8 starting engine\n",
      "i8 engine stop\n",
      "i8 starting engine\n",
      "i8 engine stop\n",
      "i8 starting engine\n",
      "i8 engine stop\n",
      "i8 starting engine\n",
      "i8 engine stop\n",
      "i8 starting engine\n",
      "i8 engine stop\n",
      "i8 starting engine\n",
      "i8 engine stop\n",
      "i8 starting engine\n",
      "i8 engine stop\n",
      "i8 starting engine\n",
      "i8 engine stop\n",
      "i8 starting engine\n",
      "i8 engine stop\n",
      "i8 starting engine\n",
      "i8 engine stop\n",
      "i8 starting engine\n",
      "i8 engine stop\n",
      "i8 starting engine\n",
      "i8 engine stop\n",
      "i8 starting engine\n",
      "i8 engine stop\n",
      "i8 starting engine\n",
      "i8 engine stop\n",
      "i8 starting engine\n",
      "i8 engine stop\n",
      "i8 starting engine\n",
      "i8 engine stop\n",
      "i8 starting engine\n",
      "i8 engine stop\n",
      "i8 starting engine\n",
      "i8 engine stop\n",
      "i8 starting engine\n",
      "i8 engine stop\n",
      "i8 starting engine\n",
      "i8 engine stop\n",
      "i8 starting engine\n",
      "i8 engine stop\n",
      "i8 starting engine\n",
      "i8 engine stop\n",
      "i8 starting engine\n",
      "i8 engine stop\n",
      "i8 starting engine\n",
      "i8 engine stop\n",
      "i8 starting engine\n",
      "i8 engine stop\n",
      "i8 starting engine\n",
      "i8 engine stop\n",
      "i8 starting engine\n",
      "i8 engine stop\n",
      "i8 starting engine\n",
      "i8 engine stop\n",
      "i8 starting engine\n",
      "i8 engine stop\n",
      "i8 starting engine\n",
      "i8 engine stop\n",
      "i8 starting engine\n",
      "i8 engine stop\n",
      "i8 starting engine\n",
      "i8 engine stop\n",
      "i8 starting engine\n",
      "i8 engine stop\n",
      "i8 starting engine\n",
      "i8 engine stop\n",
      "i8 starting engine\n",
      "i8 engine stop\n",
      "i8 starting engine\n",
      "i8 engine stop\n",
      "i8 starting engine\n",
      "i8 engine stop\n",
      "i8 starting engine\n",
      "i8 engine stop\n",
      "i8 starting engine\n",
      "i8 engine stop\n",
      "i8 starting engine\n",
      "i8 engine stop\n",
      "i8 starting engine\n",
      "i8 engine stop\n",
      "i8 starting engine\n",
      "i8 engine stop\n",
      "i8 starting engine\n",
      "i8 engine stop\n",
      "i8 starting engine\n",
      "i8 engine stop\n",
      "i8 starting engine\n",
      "i8 engine stop\n",
      "i8 starting engine\n",
      "i8 engine stop\n",
      "i8 starting engine\n",
      "i8 engine stop\n",
      "i8 starting engine\n",
      "i8 engine stop\n",
      "i8 starting engine\n",
      "i8 engine stop\n",
      "i8 starting engine\n",
      "i8 engine stop\n",
      "i8 starting engine\n",
      "i8 engine stop\n",
      "i8 starting engine\n",
      "i8 engine stop\n",
      "i8 starting engine\n",
      "i8 engine stop\n",
      "i8 starting engine\n",
      "i8 engine stop\n",
      "i8 starting engine\n",
      "i8 engine stop\n",
      "i8 starting engine\n",
      "i8 engine stop\n",
      "i8 starting engine\n",
      "i8 engine stop\n",
      "i8 starting engine\n",
      "i8 engine stop\n",
      "i8 starting engine\n",
      "i8 engine stop\n",
      "i8 starting engine\n",
      "i8 engine stop\n",
      "i8 starting engine\n",
      "i8 engine stop\n",
      "i8 starting engine\n",
      "i8 engine stop\n",
      "i8 starting engine\n",
      "i8 engine stop\n",
      "i8 starting engine\n",
      "i8 engine stop\n",
      "i8 starting engine\n",
      "i8 engine stop\n",
      "i8 starting engine\n",
      "i8 engine stop\n",
      "i8 starting engine\n",
      "i8 engine stop\n",
      "i8 starting engine\n",
      "i8 engine stop\n",
      "i8 starting engine\n",
      "i8 engine stop\n",
      "i8 starting engine\n",
      "i8 engine stop\n",
      "i8 starting engine\n",
      "i8 engine stop\n",
      "i8 starting engine\n",
      "i8 engine stop\n",
      "i8 starting engine\n",
      "i8 engine stop\n",
      "i8 starting engine\n",
      "i8 engine stop\n",
      "i8 starting engine\n",
      "i8 engine stop\n",
      "i8 starting engine\n",
      "i8 engine stop\n",
      "i8 starting engine\n",
      "i8 engine stop\n",
      "i8 starting engine\n",
      "i8 engine stop\n"
     ]
    }
   ],
   "source": [
    "for i in range(100):\n",
    "    car3.driveNow()\n",
    "    car3.stopNow()"
   ]
  },
  {
   "cell_type": "code",
   "execution_count": 133,
   "metadata": {},
   "outputs": [
    {
     "name": "stdout",
     "output_type": "stream",
     "text": [
      "100\n",
      "i8 needs maintenance\n"
     ]
    },
    {
     "data": {
      "text/plain": [
       "True"
      ]
     },
     "execution_count": 133,
     "metadata": {},
     "output_type": "execute_result"
    }
   ],
   "source": [
    "print(car3.tripsSinceMaintenance)\n",
    "car3.needsMaintenance()"
   ]
  },
  {
   "cell_type": "code",
   "execution_count": 134,
   "metadata": {},
   "outputs": [
    {
     "name": "stdout",
     "output_type": "stream",
     "text": [
      "i8 has been repaired\n"
     ]
    }
   ],
   "source": [
    "car3.repair()"
   ]
  },
  {
   "cell_type": "code",
   "execution_count": 135,
   "metadata": {},
   "outputs": [
    {
     "name": "stdout",
     "output_type": "stream",
     "text": [
      "0\n",
      "i8 dont needs maintenance\n"
     ]
    },
    {
     "data": {
      "text/plain": [
       "False"
      ]
     },
     "execution_count": 135,
     "metadata": {},
     "output_type": "execute_result"
    }
   ],
   "source": [
    "print(car3.tripsSinceMaintenance)\n",
    "car3.needsMaintenance()"
   ]
  },
  {
   "cell_type": "code",
   "execution_count": 156,
   "metadata": {},
   "outputs": [],
   "source": [
    "plane1 = Planes(\"Gulfstream Aerospace\",\"G550\",2004,24721,0)"
   ]
  },
  {
   "cell_type": "code",
   "execution_count": 157,
   "metadata": {},
   "outputs": [
    {
     "name": "stdout",
     "output_type": "stream",
     "text": [
      "Gulfstream Aerospace\n",
      "G550\n",
      "2004\n",
      "24721\n",
      "G550 dont needs maintenance\n",
      "0\n"
     ]
    }
   ],
   "source": [
    "print(plane1.make)\n",
    "print(plane1.model)\n",
    "print(plane1.year)\n",
    "print(plane1.weight)\n",
    "plane1.needsMaintenance()\n",
    "print(plane1.tripsSinceMaintenance)"
   ]
  },
  {
   "cell_type": "code",
   "execution_count": 158,
   "metadata": {},
   "outputs": [
    {
     "name": "stdout",
     "output_type": "stream",
     "text": [
      "G550 dont needs maintenance\n",
      "G550 starting engine\n",
      "G550 engine stop\n",
      "G550 dont needs maintenance\n",
      "G550 starting engine\n",
      "G550 engine stop\n",
      "G550 dont needs maintenance\n",
      "G550 starting engine\n",
      "G550 engine stop\n",
      "G550 dont needs maintenance\n",
      "G550 starting engine\n",
      "G550 engine stop\n",
      "G550 dont needs maintenance\n",
      "G550 starting engine\n",
      "G550 engine stop\n",
      "G550 dont needs maintenance\n",
      "G550 starting engine\n",
      "G550 engine stop\n",
      "G550 dont needs maintenance\n",
      "G550 starting engine\n",
      "G550 engine stop\n",
      "G550 dont needs maintenance\n",
      "G550 starting engine\n",
      "G550 engine stop\n",
      "G550 dont needs maintenance\n",
      "G550 starting engine\n",
      "G550 engine stop\n",
      "G550 dont needs maintenance\n",
      "G550 starting engine\n",
      "G550 engine stop\n",
      "G550 dont needs maintenance\n",
      "G550 starting engine\n",
      "G550 engine stop\n",
      "G550 dont needs maintenance\n",
      "G550 starting engine\n",
      "G550 engine stop\n",
      "G550 dont needs maintenance\n",
      "G550 starting engine\n",
      "G550 engine stop\n",
      "G550 dont needs maintenance\n",
      "G550 starting engine\n",
      "G550 engine stop\n",
      "G550 dont needs maintenance\n",
      "G550 starting engine\n",
      "G550 engine stop\n",
      "G550 dont needs maintenance\n",
      "G550 starting engine\n",
      "G550 engine stop\n",
      "G550 dont needs maintenance\n",
      "G550 starting engine\n",
      "G550 engine stop\n",
      "G550 dont needs maintenance\n",
      "G550 starting engine\n",
      "G550 engine stop\n",
      "G550 dont needs maintenance\n",
      "G550 starting engine\n",
      "G550 engine stop\n",
      "G550 dont needs maintenance\n",
      "G550 starting engine\n",
      "G550 engine stop\n",
      "G550 dont needs maintenance\n",
      "G550 starting engine\n",
      "G550 engine stop\n",
      "G550 dont needs maintenance\n",
      "G550 starting engine\n",
      "G550 engine stop\n",
      "G550 dont needs maintenance\n",
      "G550 starting engine\n",
      "G550 engine stop\n",
      "G550 dont needs maintenance\n",
      "G550 starting engine\n",
      "G550 engine stop\n",
      "G550 dont needs maintenance\n",
      "G550 starting engine\n",
      "G550 engine stop\n",
      "G550 dont needs maintenance\n",
      "G550 starting engine\n",
      "G550 engine stop\n",
      "G550 dont needs maintenance\n",
      "G550 starting engine\n",
      "G550 engine stop\n",
      "G550 dont needs maintenance\n",
      "G550 starting engine\n",
      "G550 engine stop\n",
      "G550 dont needs maintenance\n",
      "G550 starting engine\n",
      "G550 engine stop\n",
      "G550 dont needs maintenance\n",
      "G550 starting engine\n",
      "G550 engine stop\n",
      "G550 dont needs maintenance\n",
      "G550 starting engine\n",
      "G550 engine stop\n",
      "G550 dont needs maintenance\n",
      "G550 starting engine\n",
      "G550 engine stop\n",
      "G550 dont needs maintenance\n",
      "G550 starting engine\n",
      "G550 engine stop\n",
      "G550 dont needs maintenance\n",
      "G550 starting engine\n",
      "G550 engine stop\n",
      "G550 dont needs maintenance\n",
      "G550 starting engine\n",
      "G550 engine stop\n",
      "G550 dont needs maintenance\n",
      "G550 starting engine\n",
      "G550 engine stop\n",
      "G550 dont needs maintenance\n",
      "G550 starting engine\n",
      "G550 engine stop\n",
      "G550 dont needs maintenance\n",
      "G550 starting engine\n",
      "G550 engine stop\n",
      "G550 dont needs maintenance\n",
      "G550 starting engine\n",
      "G550 engine stop\n",
      "G550 dont needs maintenance\n",
      "G550 starting engine\n",
      "G550 engine stop\n",
      "G550 dont needs maintenance\n",
      "G550 starting engine\n",
      "G550 engine stop\n",
      "G550 dont needs maintenance\n",
      "G550 starting engine\n",
      "G550 engine stop\n",
      "G550 dont needs maintenance\n",
      "G550 starting engine\n",
      "G550 engine stop\n",
      "G550 dont needs maintenance\n",
      "G550 starting engine\n",
      "G550 engine stop\n",
      "G550 dont needs maintenance\n",
      "G550 starting engine\n",
      "G550 engine stop\n",
      "G550 dont needs maintenance\n",
      "G550 starting engine\n",
      "G550 engine stop\n",
      "G550 dont needs maintenance\n",
      "G550 starting engine\n",
      "G550 engine stop\n",
      "G550 dont needs maintenance\n",
      "G550 starting engine\n",
      "G550 engine stop\n",
      "G550 dont needs maintenance\n",
      "G550 starting engine\n",
      "G550 engine stop\n",
      "G550 dont needs maintenance\n",
      "G550 starting engine\n",
      "G550 engine stop\n",
      "G550 dont needs maintenance\n",
      "G550 starting engine\n",
      "G550 engine stop\n",
      "G550 dont needs maintenance\n",
      "G550 starting engine\n",
      "G550 engine stop\n",
      "G550 dont needs maintenance\n",
      "G550 starting engine\n",
      "G550 engine stop\n",
      "G550 dont needs maintenance\n",
      "G550 starting engine\n",
      "G550 engine stop\n",
      "G550 dont needs maintenance\n",
      "G550 starting engine\n",
      "G550 engine stop\n",
      "G550 dont needs maintenance\n",
      "G550 starting engine\n",
      "G550 engine stop\n",
      "G550 dont needs maintenance\n",
      "G550 starting engine\n",
      "G550 engine stop\n",
      "G550 dont needs maintenance\n",
      "G550 starting engine\n",
      "G550 engine stop\n",
      "G550 dont needs maintenance\n",
      "G550 starting engine\n",
      "G550 engine stop\n",
      "G550 dont needs maintenance\n",
      "G550 starting engine\n",
      "G550 engine stop\n",
      "G550 dont needs maintenance\n",
      "G550 starting engine\n",
      "G550 engine stop\n",
      "G550 dont needs maintenance\n",
      "G550 starting engine\n",
      "G550 engine stop\n",
      "G550 dont needs maintenance\n",
      "G550 starting engine\n",
      "G550 engine stop\n",
      "G550 dont needs maintenance\n",
      "G550 starting engine\n",
      "G550 engine stop\n",
      "G550 dont needs maintenance\n",
      "G550 starting engine\n",
      "G550 engine stop\n",
      "G550 dont needs maintenance\n",
      "G550 starting engine\n",
      "G550 engine stop\n",
      "G550 dont needs maintenance\n",
      "G550 starting engine\n",
      "G550 engine stop\n",
      "G550 dont needs maintenance\n",
      "G550 starting engine\n",
      "G550 engine stop\n",
      "G550 dont needs maintenance\n",
      "G550 starting engine\n",
      "G550 engine stop\n",
      "G550 dont needs maintenance\n",
      "G550 starting engine\n",
      "G550 engine stop\n",
      "G550 dont needs maintenance\n",
      "G550 starting engine\n",
      "G550 engine stop\n",
      "G550 dont needs maintenance\n",
      "G550 starting engine\n",
      "G550 engine stop\n",
      "G550 dont needs maintenance\n",
      "G550 starting engine\n",
      "G550 engine stop\n",
      "G550 dont needs maintenance\n",
      "G550 starting engine\n",
      "G550 engine stop\n",
      "G550 dont needs maintenance\n",
      "G550 starting engine\n",
      "G550 engine stop\n",
      "G550 dont needs maintenance\n",
      "G550 starting engine\n",
      "G550 engine stop\n",
      "G550 dont needs maintenance\n",
      "G550 starting engine\n",
      "G550 engine stop\n",
      "G550 dont needs maintenance\n",
      "G550 starting engine\n",
      "G550 engine stop\n",
      "G550 dont needs maintenance\n",
      "G550 starting engine\n",
      "G550 engine stop\n",
      "G550 dont needs maintenance\n",
      "G550 starting engine\n",
      "G550 engine stop\n",
      "G550 dont needs maintenance\n",
      "G550 starting engine\n",
      "G550 engine stop\n",
      "G550 dont needs maintenance\n",
      "G550 starting engine\n",
      "G550 engine stop\n",
      "G550 dont needs maintenance\n",
      "G550 starting engine\n",
      "G550 engine stop\n",
      "G550 dont needs maintenance\n",
      "G550 starting engine\n",
      "G550 engine stop\n",
      "G550 dont needs maintenance\n",
      "G550 starting engine\n",
      "G550 engine stop\n",
      "G550 dont needs maintenance\n",
      "G550 starting engine\n",
      "G550 engine stop\n",
      "G550 dont needs maintenance\n",
      "G550 starting engine\n",
      "G550 engine stop\n",
      "G550 dont needs maintenance\n",
      "G550 starting engine\n",
      "G550 engine stop\n",
      "G550 dont needs maintenance\n",
      "G550 starting engine\n",
      "G550 engine stop\n",
      "G550 dont needs maintenance\n",
      "G550 starting engine\n",
      "G550 engine stop\n",
      "G550 dont needs maintenance\n",
      "G550 starting engine\n",
      "G550 engine stop\n",
      "G550 dont needs maintenance\n",
      "G550 starting engine\n",
      "G550 engine stop\n",
      "G550 dont needs maintenance\n",
      "G550 starting engine\n",
      "G550 engine stop\n",
      "G550 dont needs maintenance\n",
      "G550 starting engine\n",
      "G550 engine stop\n",
      "G550 dont needs maintenance\n",
      "G550 starting engine\n",
      "G550 engine stop\n",
      "G550 dont needs maintenance\n",
      "G550 starting engine\n",
      "G550 engine stop\n",
      "G550 dont needs maintenance\n",
      "G550 starting engine\n",
      "G550 engine stop\n",
      "G550 dont needs maintenance\n",
      "G550 starting engine\n",
      "G550 engine stop\n",
      "G550 dont needs maintenance\n",
      "G550 starting engine\n",
      "G550 engine stop\n",
      "G550 dont needs maintenance\n",
      "G550 starting engine\n",
      "G550 engine stop\n"
     ]
    }
   ],
   "source": [
    "for i in range(100):\n",
    "    plane1.flyNow()\n",
    "    plane1.landNow()"
   ]
  },
  {
   "cell_type": "code",
   "execution_count": 159,
   "metadata": {},
   "outputs": [
    {
     "name": "stdout",
     "output_type": "stream",
     "text": [
      "100\n",
      "G550 needs maintenance\n"
     ]
    },
    {
     "data": {
      "text/plain": [
       "True"
      ]
     },
     "execution_count": 159,
     "metadata": {},
     "output_type": "execute_result"
    }
   ],
   "source": [
    "print(plane1.tripsSinceMaintenance)\n",
    "plane1.needsMaintenance()"
   ]
  },
  {
   "cell_type": "code",
   "execution_count": 160,
   "metadata": {},
   "outputs": [
    {
     "name": "stdout",
     "output_type": "stream",
     "text": [
      "G550 needs maintenance\n",
      "G550 needs repair to fly\n"
     ]
    }
   ],
   "source": [
    "plane1.flyNow()"
   ]
  },
  {
   "cell_type": "code",
   "execution_count": 161,
   "metadata": {},
   "outputs": [
    {
     "name": "stdout",
     "output_type": "stream",
     "text": [
      "G550 has been repaired\n"
     ]
    }
   ],
   "source": [
    "plane1.repair()"
   ]
  },
  {
   "cell_type": "code",
   "execution_count": 162,
   "metadata": {},
   "outputs": [
    {
     "name": "stdout",
     "output_type": "stream",
     "text": [
      "0\n",
      "G550 dont needs maintenance\n"
     ]
    },
    {
     "data": {
      "text/plain": [
       "False"
      ]
     },
     "execution_count": 162,
     "metadata": {},
     "output_type": "execute_result"
    }
   ],
   "source": [
    "print(plane1.tripsSinceMaintenance)\n",
    "plane1.needsMaintenance()"
   ]
  },
  {
   "cell_type": "code",
   "execution_count": null,
   "metadata": {},
   "outputs": [],
   "source": []
  }
 ],
 "metadata": {
  "kernelspec": {
   "display_name": "Python 3",
   "language": "python",
   "name": "python3"
  },
  "language_info": {
   "codemirror_mode": {
    "name": "ipython",
    "version": 3
   },
   "file_extension": ".py",
   "mimetype": "text/x-python",
   "name": "python",
   "nbconvert_exporter": "python",
   "pygments_lexer": "ipython3",
   "version": "3.8.3"
  }
 },
 "nbformat": 4,
 "nbformat_minor": 4
}
