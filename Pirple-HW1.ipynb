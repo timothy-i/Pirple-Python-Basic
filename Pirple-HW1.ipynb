{
 "cells": [
  {
   "cell_type": "code",
   "execution_count": 6,
   "metadata": {},
   "outputs": [
    {
     "name": "stdout",
     "output_type": "stream",
     "text": [
      "Song title: Amen\n",
      "Artist: Rich Brian\n",
      "Genre: Rap\n",
      "Duration (in seconds): 117\n",
      "BPM: 140\n",
      "Released date: 2018-02-02\n",
      "Label: 88rising-EMPIRE\n"
     ]
    }
   ],
   "source": [
    "\"\"\"\n",
    "This is metadata for my favourite song\n",
    "Rich Brian - Amen\n",
    "\"\"\"\n",
    "#this variables using Strings\n",
    "songTitle = 'Amen'\n",
    "artist = 'Rich Brian'\n",
    "genre = 'Rap'\n",
    "releasedDate = '2018-02-02'\n",
    "label = '88rising-EMPIRE'\n",
    "\n",
    "#this variables using Integers\n",
    "durationInSeconds = 117\n",
    "BPM = 140\n",
    "\n",
    "print('Song title:', songTitle)\n",
    "print('Artist:', artist)\n",
    "print('Genre:', genre)\n",
    "print('Duration (in seconds):', durationInSeconds)\n",
    "print('BPM:', BPM)\n",
    "print('Released date:', releasedDate)\n",
    "print('Label:', label)\n",
    "#sorry I can't find the meta-data that use Floats\n",
    "\n"
   ]
  },
  {
   "cell_type": "code",
   "execution_count": null,
   "metadata": {},
   "outputs": [],
   "source": []
  }
 ],
 "metadata": {
  "kernelspec": {
   "display_name": "Python 3",
   "language": "python",
   "name": "python3"
  },
  "language_info": {
   "codemirror_mode": {
    "name": "ipython",
    "version": 3
   },
   "file_extension": ".py",
   "mimetype": "text/x-python",
   "name": "python",
   "nbconvert_exporter": "python",
   "pygments_lexer": "ipython3",
   "version": "3.8.3"
  }
 },
 "nbformat": 4,
 "nbformat_minor": 4
}
