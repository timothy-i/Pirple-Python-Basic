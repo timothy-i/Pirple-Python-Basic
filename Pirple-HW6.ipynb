{
 "cells": [
  {
   "cell_type": "code",
   "execution_count": 177,
   "metadata": {},
   "outputs": [],
   "source": [
    "def makePlayingBoard(rows,columns):\n",
    "    \"\"\"\n",
    "    make sure to input even number on rows\n",
    "    and odd number on columns\n",
    "    \"\"\"\n",
    "    if rows > 102 and columns > 103: #max rows & columns\n",
    "        return False\n",
    "    elif rows % 2 == 1 and columns % 2 == 0: #playing board not correctly created\n",
    "        return False\n",
    "    else:\n",
    "        for i in range(rows+1): #playing board correctly created\n",
    "            if i % 2 == 0:\n",
    "                for j in range(1, columns+1):\n",
    "                    if j % 2 == 1:\n",
    "                        if j != columns:\n",
    "                            print(' ', end=\"\")\n",
    "                        else:\n",
    "                            print(' ')\n",
    "                    else:\n",
    "                        print('|', end=\"\")     \n",
    "            else:\n",
    "                print(\"-\"*columns)\n",
    "        return True"
   ]
  },
  {
   "cell_type": "code",
   "execution_count": 180,
   "metadata": {},
   "outputs": [
    {
     "name": "stdout",
     "output_type": "stream",
     "text": [
      " | | \n",
      "-----\n",
      " | | \n",
      "-----\n",
      " | | \n"
     ]
    },
    {
     "data": {
      "text/plain": [
       "True"
      ]
     },
     "execution_count": 180,
     "metadata": {},
     "output_type": "execute_result"
    }
   ],
   "source": [
    "makePlayingBoard(4,5)"
   ]
  },
  {
   "cell_type": "code",
   "execution_count": 178,
   "metadata": {},
   "outputs": [
    {
     "name": "stdout",
     "output_type": "stream",
     "text": [
      "Help on function makePlayingBoard in module __main__:\n",
      "\n",
      "makePlayingBoard(rows, columns)\n",
      "    make sure to input even number on rows\n",
      "    and odd number on columns\n",
      "\n"
     ]
    }
   ],
   "source": [
    "help(makePlayingBoard)"
   ]
  },
  {
   "cell_type": "code",
   "execution_count": null,
   "metadata": {},
   "outputs": [],
   "source": []
  }
 ],
 "metadata": {
  "kernelspec": {
   "display_name": "Python 3",
   "language": "python",
   "name": "python3"
  },
  "language_info": {
   "codemirror_mode": {
    "name": "ipython",
    "version": 3
   },
   "file_extension": ".py",
   "mimetype": "text/x-python",
   "name": "python",
   "nbconvert_exporter": "python",
   "pygments_lexer": "ipython3",
   "version": "3.8.3"
  }
 },
 "nbformat": 4,
 "nbformat_minor": 4
}
